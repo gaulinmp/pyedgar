{
 "cells": [
  {
   "cell_type": "markdown",
   "metadata": {},
   "source": [
    "# Imports & Init"
   ]
  },
  {
   "cell_type": "code",
   "execution_count": 6,
   "metadata": {
    "ExecuteTime": {
     "end_time": "2021-03-29T18:38:24.612544Z",
     "start_time": "2021-03-29T18:38:24.595930Z"
    }
   },
   "outputs": [],
   "source": [
    "import pandas as pd\n",
    "\n",
    "from pyedgar import config\n",
    "from pyedgar import EDGARIndex"
   ]
  },
  {
   "cell_type": "code",
   "execution_count": 3,
   "metadata": {
    "ExecuteTime": {
     "end_time": "2021-03-29T18:37:08.328803Z",
     "start_time": "2021-03-29T18:37:08.314791Z"
    }
   },
   "outputs": [],
   "source": [
    "idx = EDGARIndex()"
   ]
  },
  {
   "cell_type": "markdown",
   "metadata": {},
   "source": [
    "# Download Index File"
   ]
  },
  {
   "cell_type": "code",
   "execution_count": 11,
   "metadata": {
    "ExecuteTime": {
     "end_time": "2021-03-29T18:39:18.097748Z",
     "start_time": "2021-03-29T18:39:18.086846Z"
    }
   },
   "outputs": [
    {
     "data": {
      "text/plain": [
       "True"
      ]
     },
     "execution_count": 11,
     "metadata": {},
     "output_type": "execute_result"
    }
   ],
   "source": [
    "config.CACHE_INDEX"
   ]
  },
  {
   "cell_type": "code",
   "execution_count": 12,
   "metadata": {
    "ExecuteTime": {
     "end_time": "2021-03-29T18:39:18.299432Z",
     "start_time": "2021-03-29T18:39:18.285650Z"
    }
   },
   "outputs": [
    {
     "data": {
      "text/plain": [
       "'C:\\\\Users\\\\gaulinmp/Dropbox/Documents/School/_data/pyedgar/indices/source/'"
      ]
     },
     "execution_count": 12,
     "metadata": {},
     "output_type": "execute_result"
    }
   ],
   "source": [
    "config.INDEX_CACHE_ROOT"
   ]
  },
  {
   "cell_type": "code",
   "execution_count": 13,
   "metadata": {
    "ExecuteTime": {
     "end_time": "2021-03-29T18:39:19.002325Z",
     "start_time": "2021-03-29T18:39:18.988312Z"
    }
   },
   "outputs": [
    {
     "data": {
      "text/plain": [
       "'C:\\\\Users\\\\gaulinmp/Dropbox/Documents/School/_data/pyedgar/indices/'"
      ]
     },
     "execution_count": 13,
     "metadata": {},
     "output_type": "execute_result"
    }
   ],
   "source": [
    "config.INDEX_ROOT"
   ]
  },
  {
   "cell_type": "code",
   "execution_count": 14,
   "metadata": {
    "ExecuteTime": {
     "end_time": "2021-03-29T18:54:22.715714Z",
     "start_time": "2021-03-29T18:41:46.316317Z"
    }
   },
   "outputs": [
    {
     "name": "stderr",
     "output_type": "stream",
     "text": [
      "Downloading the quarterly indices...\n",
      "108it [06:58,  3.87s/it]\n",
      "Done downloading, extracting...\n",
      "100%|████████████████████████████████████████████████████████████████████████████████████| 6/6 [05:34<00:00, 55.82s/it]\n",
      "Done!\n"
     ]
    },
    {
     "data": {
      "text/plain": [
       "<pyedgar.index.EDGARIndex at 0x1d48a388ca0>"
      ]
     },
     "execution_count": 14,
     "metadata": {},
     "output_type": "execute_result"
    }
   ],
   "source": [
    "# Run this to download all indexes (which files to keep is defined in the config)\n",
    "EDGARIndex(force_download=True)"
   ]
  },
  {
   "cell_type": "markdown",
   "metadata": {},
   "source": [
    "# Use Index File"
   ]
  },
  {
   "cell_type": "code",
   "execution_count": 15,
   "metadata": {
    "ExecuteTime": {
     "end_time": "2021-03-29T18:54:22.719718Z",
     "start_time": "2021-03-29T18:54:22.716715Z"
    }
   },
   "outputs": [
    {
     "data": {
      "text/plain": [
       "{'form_10-K.tab.gz': 'C:\\\\Users\\\\gaulinmp/Dropbox/Documents/School/_data/pyedgar/indices/form_10-K.tab.gz',\n",
       " 'form_10-Q.tab.gz': 'C:\\\\Users\\\\gaulinmp/Dropbox/Documents/School/_data/pyedgar/indices/form_10-Q.tab.gz',\n",
       " 'form_10.periods.tab.gz': 'C:\\\\Users\\\\gaulinmp/Dropbox/Documents/School/_data/pyedgar/indices/form_10.periods.tab.gz',\n",
       " 'form_13s.tab.gz': 'C:\\\\Users\\\\gaulinmp/Dropbox/Documents/School/_data/pyedgar/indices/form_13s.tab.gz',\n",
       " 'form_8-K.tab.gz': 'C:\\\\Users\\\\gaulinmp/Dropbox/Documents/School/_data/pyedgar/indices/form_8-K.tab.gz',\n",
       " 'form_all.tab.gz': 'C:\\\\Users\\\\gaulinmp/Dropbox/Documents/School/_data/pyedgar/indices/form_all.tab.gz',\n",
       " 'form_DEF14A.tab.gz': 'C:\\\\Users\\\\gaulinmp/Dropbox/Documents/School/_data/pyedgar/indices/form_DEF14A.tab.gz'}"
      ]
     },
     "execution_count": 15,
     "metadata": {},
     "output_type": "execute_result"
    }
   ],
   "source": [
    "# Look at the indices available. Prior to downloading, this will be empty.\n",
    "idx.indices"
   ]
  },
  {
   "cell_type": "code",
   "execution_count": 16,
   "metadata": {
    "ExecuteTime": {
     "end_time": "2021-03-29T19:24:08.210621Z",
     "start_time": "2021-03-29T19:23:42.060773Z"
    }
   },
   "outputs": [],
   "source": [
    "all_index = idx['all']"
   ]
  },
  {
   "cell_type": "code",
   "execution_count": 18,
   "metadata": {
    "ExecuteTime": {
     "end_time": "2021-03-29T19:24:10.193435Z",
     "start_time": "2021-03-29T19:24:09.207005Z"
    }
   },
   "outputs": [
    {
     "data": {
      "text/plain": [
       "4           7627989\n",
       "8-K         1702084\n",
       "SC 13G/A     739963\n",
       "3            693082\n",
       "10-Q         605468\n",
       "497          455165\n",
       "6-K          430719\n",
       "SC 13G       401678\n",
       "424B2        376140\n",
       "424B3        291222\n",
       "13F-HR       286966\n",
       "D            276334\n",
       "SC 13D/A     239206\n",
       "4/A          235424\n",
       "497K         220107\n",
       "5            214422\n",
       "CORRESP      208141\n",
       "10-K         199316\n",
       "UPLOAD       198937\n",
       "D/A          186400\n",
       "Name: form, dtype: int64"
      ]
     },
     "execution_count": 18,
     "metadata": {},
     "output_type": "execute_result"
    }
   ],
   "source": [
    "all_index.form.value_counts().head(20)"
   ]
  },
  {
   "cell_type": "code",
   "execution_count": 20,
   "metadata": {
    "ExecuteTime": {
     "end_time": "2021-03-29T19:24:52.290533Z",
     "start_time": "2021-03-29T19:24:47.406365Z"
    }
   },
   "outputs": [
    {
     "data": {
      "text/plain": [
       "S-1/A        58586\n",
       "S-1          24803\n",
       "ABS-15G      13460\n",
       "ABS-15G/A     3676\n",
       "S-11/A        3555\n",
       "S-1MEF        1981\n",
       "S-11          1158\n",
       "S-11MEF         83\n",
       "Name: form, dtype: int64"
      ]
     },
     "execution_count": 20,
     "metadata": {},
     "output_type": "execute_result"
    }
   ],
   "source": [
    "# Let repeat the above, but just for S-1 matching forms\n",
    "all_index[all_index.form.str.contains('S-1')].form.value_counts()"
   ]
  },
  {
   "cell_type": "code",
   "execution_count": 24,
   "metadata": {
    "ExecuteTime": {
     "end_time": "2021-03-29T19:27:52.606386Z",
     "start_time": "2021-03-29T19:27:51.816199Z"
    }
   },
   "outputs": [
    {
     "data": {
      "text/html": [
       "<div>\n",
       "<style scoped>\n",
       "    .dataframe tbody tr th:only-of-type {\n",
       "        vertical-align: middle;\n",
       "    }\n",
       "\n",
       "    .dataframe tbody tr th {\n",
       "        vertical-align: top;\n",
       "    }\n",
       "\n",
       "    .dataframe thead th {\n",
       "        text-align: right;\n",
       "    }\n",
       "</style>\n",
       "<table border=\"1\" class=\"dataframe\">\n",
       "  <thead>\n",
       "    <tr style=\"text-align: right;\">\n",
       "      <th></th>\n",
       "      <th>cik</th>\n",
       "      <th>name</th>\n",
       "      <th>form</th>\n",
       "      <th>filedate</th>\n",
       "      <th>accession</th>\n",
       "    </tr>\n",
       "  </thead>\n",
       "  <tbody>\n",
       "    <tr>\n",
       "      <th>6022</th>\n",
       "      <td>1961</td>\n",
       "      <td>WORLDS INC</td>\n",
       "      <td>S-1</td>\n",
       "      <td>2014-02-04</td>\n",
       "      <td>0001264931-14-000033</td>\n",
       "    </tr>\n",
       "    <tr>\n",
       "      <th>6063</th>\n",
       "      <td>1961</td>\n",
       "      <td>WORLDS INC</td>\n",
       "      <td>S-1</td>\n",
       "      <td>2016-08-23</td>\n",
       "      <td>0001264931-16-000397</td>\n",
       "    </tr>\n",
       "    <tr>\n",
       "      <th>6080</th>\n",
       "      <td>1961</td>\n",
       "      <td>WORLDS INC</td>\n",
       "      <td>S-1</td>\n",
       "      <td>2018-05-01</td>\n",
       "      <td>0001264931-18-000036</td>\n",
       "    </tr>\n",
       "    <tr>\n",
       "      <th>11220</th>\n",
       "      <td>2186</td>\n",
       "      <td>RELM WIRELESS CORP</td>\n",
       "      <td>S-1</td>\n",
       "      <td>2000-06-07</td>\n",
       "      <td>0000950115-00-000797</td>\n",
       "    </tr>\n",
       "    <tr>\n",
       "      <th>11241</th>\n",
       "      <td>2186</td>\n",
       "      <td>RELM WIRELESS CORP</td>\n",
       "      <td>S-1</td>\n",
       "      <td>2001-12-19</td>\n",
       "      <td>0001021408-01-511568</td>\n",
       "    </tr>\n",
       "  </tbody>\n",
       "</table>\n",
       "</div>"
      ],
      "text/plain": [
       "        cik                name form   filedate             accession\n",
       "6022   1961          WORLDS INC  S-1 2014-02-04  0001264931-14-000033\n",
       "6063   1961          WORLDS INC  S-1 2016-08-23  0001264931-16-000397\n",
       "6080   1961          WORLDS INC  S-1 2018-05-01  0001264931-18-000036\n",
       "11220  2186  RELM WIRELESS CORP  S-1 2000-06-07  0000950115-00-000797\n",
       "11241  2186  RELM WIRELESS CORP  S-1 2001-12-19  0001021408-01-511568"
      ]
     },
     "execution_count": 24,
     "metadata": {},
     "output_type": "execute_result"
    }
   ],
   "source": [
    "s1_index = all_index.query('form == \"S-1\"')\n",
    "# Alternatively:\n",
    "# s1_index = EDGARIndex()['all'].query('form == \"S-1\"')\n",
    "s1_index.head()"
   ]
  },
  {
   "cell_type": "code",
   "execution_count": 25,
   "metadata": {
    "ExecuteTime": {
     "end_time": "2021-03-29T19:28:10.564844Z",
     "start_time": "2021-03-29T19:28:05.627472Z"
    }
   },
   "outputs": [
    {
     "name": "stderr",
     "output_type": "stream",
     "text": [
      "C:\\Users\\gaulinmp\\Anaconda\\envs\\notebooks\\lib\\site-packages\\pandas\\core\\strings\\accessor.py:101: UserWarning: This pattern has match groups. To actually get the groups, use str.extract.\n",
      "  return func(self, *args, **kwargs)\n"
     ]
    },
    {
     "data": {
      "text/html": [
       "<div>\n",
       "<style scoped>\n",
       "    .dataframe tbody tr th:only-of-type {\n",
       "        vertical-align: middle;\n",
       "    }\n",
       "\n",
       "    .dataframe tbody tr th {\n",
       "        vertical-align: top;\n",
       "    }\n",
       "\n",
       "    .dataframe thead th {\n",
       "        text-align: right;\n",
       "    }\n",
       "</style>\n",
       "<table border=\"1\" class=\"dataframe\">\n",
       "  <thead>\n",
       "    <tr style=\"text-align: right;\">\n",
       "      <th></th>\n",
       "      <th>cik</th>\n",
       "      <th>name</th>\n",
       "      <th>form</th>\n",
       "      <th>filedate</th>\n",
       "      <th>accession</th>\n",
       "    </tr>\n",
       "  </thead>\n",
       "  <tbody>\n",
       "    <tr>\n",
       "      <th>6022</th>\n",
       "      <td>1961</td>\n",
       "      <td>WORLDS INC</td>\n",
       "      <td>S-1</td>\n",
       "      <td>2014-02-04</td>\n",
       "      <td>0001264931-14-000033</td>\n",
       "    </tr>\n",
       "    <tr>\n",
       "      <th>6063</th>\n",
       "      <td>1961</td>\n",
       "      <td>WORLDS INC</td>\n",
       "      <td>S-1</td>\n",
       "      <td>2016-08-23</td>\n",
       "      <td>0001264931-16-000397</td>\n",
       "    </tr>\n",
       "    <tr>\n",
       "      <th>6080</th>\n",
       "      <td>1961</td>\n",
       "      <td>WORLDS INC</td>\n",
       "      <td>S-1</td>\n",
       "      <td>2018-05-01</td>\n",
       "      <td>0001264931-18-000036</td>\n",
       "    </tr>\n",
       "    <tr>\n",
       "      <th>6084</th>\n",
       "      <td>1961</td>\n",
       "      <td>WORLDS INC</td>\n",
       "      <td>S-1/A</td>\n",
       "      <td>2018-06-08</td>\n",
       "      <td>0001264931-18-000065</td>\n",
       "    </tr>\n",
       "    <tr>\n",
       "      <th>7503</th>\n",
       "      <td>2036</td>\n",
       "      <td>ACF INDUSTRIES INC</td>\n",
       "      <td>S-1/A</td>\n",
       "      <td>1996-05-09</td>\n",
       "      <td>0000921749-96-000055</td>\n",
       "    </tr>\n",
       "  </tbody>\n",
       "</table>\n",
       "</div>"
      ],
      "text/plain": [
       "       cik                name   form   filedate             accession\n",
       "6022  1961          WORLDS INC    S-1 2014-02-04  0001264931-14-000033\n",
       "6063  1961          WORLDS INC    S-1 2016-08-23  0001264931-16-000397\n",
       "6080  1961          WORLDS INC    S-1 2018-05-01  0001264931-18-000036\n",
       "6084  1961          WORLDS INC  S-1/A 2018-06-08  0001264931-18-000065\n",
       "7503  2036  ACF INDUSTRIES INC  S-1/A 1996-05-09  0000921749-96-000055"
      ]
     },
     "execution_count": 25,
     "metadata": {},
     "output_type": "execute_result"
    }
   ],
   "source": [
    "s1_with_ammendments = all_index[all_index.form.str.contains('^S-1(/A)?$')]\n",
    "s1_with_ammendments.head()"
   ]
  },
  {
   "cell_type": "markdown",
   "metadata": {},
   "source": [
    "# Example loop over extracts"
   ]
  },
  {
   "cell_type": "code",
   "execution_count": 27,
   "metadata": {
    "ExecuteTime": {
     "end_time": "2021-03-29T19:29:19.354594Z",
     "start_time": "2021-03-29T19:29:19.352592Z"
    }
   },
   "outputs": [],
   "source": [
    "from pyedgar.filing import Filing"
   ]
  },
  {
   "cell_type": "code",
   "execution_count": 29,
   "metadata": {
    "ExecuteTime": {
     "end_time": "2021-03-29T19:34:23.563946Z",
     "start_time": "2021-03-29T19:34:11.932730Z"
    }
   },
   "outputs": [],
   "source": [
    "results = []\n",
    "for row in s1_index.itertuples():\n",
    "    filing = Filing(cik=row.cik, accession=row.accession)\n",
    "    \n",
    "    # Make an object to store this loops calculated values\n",
    "    i_res = {'cik':row.cik, 'accession':row.accession}\n",
    "    # By immediately adding it to the results, any errors thrown below\n",
    "    # will just not add those variables, so you can effectively see how\n",
    "    # far for which cik/accession your algorithm got\n",
    "    results.append(i_res)\n",
    "    \n",
    "    try:\n",
    "        # I suggest wrapping each variable you want to add in a try/catch like this\n",
    "        i_res['doc_len'] = len(filing.full_text)\n",
    "    except Exception as e:\n",
    "        # yes, catch all exceptions are bad, but we don't want our\n",
    "        # loop dying 4 hours in at iteration 100,000.\n",
    "        i_res['error'] = e\n",
    "    \n",
    "    break # remove this break to process all S-1s"
   ]
  },
  {
   "cell_type": "code",
   "execution_count": 30,
   "metadata": {
    "ExecuteTime": {
     "end_time": "2021-03-29T19:34:23.567949Z",
     "start_time": "2021-03-29T19:34:23.564946Z"
    }
   },
   "outputs": [
    {
     "data": {
      "text/plain": [
       "[{'cik': 1961, 'accession': '0001264931-14-000033', 'doc_len': 4248391}]"
      ]
     },
     "execution_count": 30,
     "metadata": {},
     "output_type": "execute_result"
    }
   ],
   "source": [
    "results"
   ]
  },
  {
   "cell_type": "code",
   "execution_count": 32,
   "metadata": {
    "ExecuteTime": {
     "end_time": "2021-03-29T19:35:19.355014Z",
     "start_time": "2021-03-29T19:35:19.348007Z"
    }
   },
   "outputs": [
    {
     "data": {
      "text/html": [
       "<div>\n",
       "<style scoped>\n",
       "    .dataframe tbody tr th:only-of-type {\n",
       "        vertical-align: middle;\n",
       "    }\n",
       "\n",
       "    .dataframe tbody tr th {\n",
       "        vertical-align: top;\n",
       "    }\n",
       "\n",
       "    .dataframe thead th {\n",
       "        text-align: right;\n",
       "    }\n",
       "</style>\n",
       "<table border=\"1\" class=\"dataframe\">\n",
       "  <thead>\n",
       "    <tr style=\"text-align: right;\">\n",
       "      <th></th>\n",
       "      <th>cik</th>\n",
       "      <th>accession</th>\n",
       "      <th>doc_len</th>\n",
       "    </tr>\n",
       "  </thead>\n",
       "  <tbody>\n",
       "    <tr>\n",
       "      <th>0</th>\n",
       "      <td>1961</td>\n",
       "      <td>0001264931-14-000033</td>\n",
       "      <td>4248391</td>\n",
       "    </tr>\n",
       "  </tbody>\n",
       "</table>\n",
       "</div>"
      ],
      "text/plain": [
       "    cik             accession  doc_len\n",
       "0  1961  0001264931-14-000033  4248391"
      ]
     },
     "execution_count": 32,
     "metadata": {},
     "output_type": "execute_result"
    }
   ],
   "source": [
    "pd.DataFrame(results)"
   ]
  }
 ],
 "metadata": {
  "kernelspec": {
   "display_name": "Python 3",
   "language": "python",
   "name": "python3"
  },
  "language_info": {
   "codemirror_mode": {
    "name": "ipython",
    "version": 3
   },
   "file_extension": ".py",
   "mimetype": "text/x-python",
   "name": "python",
   "nbconvert_exporter": "python",
   "pygments_lexer": "ipython3",
   "version": "3.8.6"
  },
  "toc": {
   "base_numbering": 1,
   "nav_menu": {},
   "number_sections": true,
   "sideBar": true,
   "skip_h1_title": false,
   "title_cell": "Table of Contents",
   "title_sidebar": "Contents",
   "toc_cell": false,
   "toc_position": {},
   "toc_section_display": true,
   "toc_window_display": false
  }
 },
 "nbformat": 4,
 "nbformat_minor": 4
}
